{
 "cells": [
  {
   "cell_type": "markdown",
   "id": "747d6715",
   "metadata": {},
   "source": [
    "# NLTK experiments # "
   ]
  },
  {
   "cell_type": "code",
   "execution_count": 66,
   "id": "8eb4423e",
   "metadata": {},
   "outputs": [],
   "source": [
    "import nltk\n",
    "from nltk import word_tokenize, CFG\n",
    "from nltk.stem import WordNetLemmatizer\n",
    "import matplotlib.pyplot as plt"
   ]
  },
  {
   "cell_type": "code",
   "execution_count": 67,
   "id": "74b278f7",
   "metadata": {},
   "outputs": [
    {
     "name": "stdout",
     "output_type": "stream",
     "text": [
      "showing info https://raw.githubusercontent.com/nltk/nltk_data/gh-pages/index.xml\n"
     ]
    }
   ],
   "source": [
    "nltk.download()\n",
    "from nltk.book import *"
   ]
  },
  {
   "cell_type": "code",
   "execution_count": 68,
   "id": "fa28faf2",
   "metadata": {},
   "outputs": [
    {
     "data": {
      "text/plain": [
       "[Synset('image.n.01'),\n",
       " Synset('persona.n.02'),\n",
       " Synset('picture.n.01'),\n",
       " Synset('prototype.n.01'),\n",
       " Synset('trope.n.01'),\n",
       " Synset('double.n.03'),\n",
       " Synset('image.n.07'),\n",
       " Synset('image.n.08'),\n",
       " Synset('effigy.n.01'),\n",
       " Synset('image.v.01'),\n",
       " Synset('visualize.v.01')]"
      ]
     },
     "execution_count": 68,
     "metadata": {},
     "output_type": "execute_result"
    }
   ],
   "source": [
    "from nltk.corpus import wordnet as wn\n",
    "wn.synsets('image')"
   ]
  },
  {
   "cell_type": "code",
   "execution_count": 69,
   "id": "d486c550",
   "metadata": {},
   "outputs": [
    {
     "name": "stdout",
     "output_type": "stream",
     "text": [
      "R1 The instrument shall image a target at 600 650 km according to IF-1.\n",
      "R2 The instrument shall image a target with spectral radiance of ABC (*plot) according to IF-1.\n",
      "R3 The instrument shall accept Command A according to IF-2.\n",
      "R4 The instrument shall transmit image data according to IF-2 in less than 0.2 s after receiving Command A.\n",
      "R5 The instrument shall have a resolution better than 1 unit.\n",
      "R6 The instrument shall have a FOV greater than 2â—¦\n",
      "R7 The instrument shall provide telemetry data every 1 s according to IF-2.\n",
      "R8 The instrument shall accept power according to IF-3.\n",
      "R9 The instrument shall consume less than 600 W of electrical power.\n",
      "R10 The instrument shall withstand a mechanical load of 5 g in any direction on IF-4.\n",
      "R11 The instrument shall fulfill its performance when subjected to a temperature between âˆ’10 â—¦C and +45 â—¦C at IF-4.\n",
      "R12 The instrument shall have a lifetime of at least 7 years.\n",
      "Note 1 R10 only applies during launch. All other requirements only apply once the instrument is powered on\n",
      "through IF-3.\n"
     ]
    }
   ],
   "source": [
    "raw = open(\"requirements.txt\").read()\n",
    "print(raw)"
   ]
  },
  {
   "cell_type": "code",
   "execution_count": 70,
   "id": "1264909b",
   "metadata": {},
   "outputs": [],
   "source": [
    "def ie_preprocess(filename):\n",
    "    raw = open(filename).read()\n",
    "    lines = [line.lower() for line in raw.split('\\n')]\n",
    "    lines = [word_tokenize(line) for line in lines]\n",
    "    lines = [nltk.pos_tag(line) for line in lines]\n",
    "    return lines"
   ]
  },
  {
   "cell_type": "markdown",
   "id": "7a5796e5",
   "metadata": {},
   "source": [
    "Minor corrections to tagging"
   ]
  },
  {
   "cell_type": "code",
   "execution_count": 71,
   "id": "1f484c21",
   "metadata": {
    "scrolled": true
   },
   "outputs": [
    {
     "data": {
      "text/plain": [
       "[[('r1', 'LS'),\n",
       "  ('the', 'DT'),\n",
       "  ('instrument', 'NN'),\n",
       "  ('shall', 'MD'),\n",
       "  ('image', 'VB'),\n",
       "  ('a', 'DT'),\n",
       "  ('target', 'NN'),\n",
       "  ('at', 'IN'),\n",
       "  ('600', 'CD'),\n",
       "  ('650', 'CD'),\n",
       "  ('km', 'NN'),\n",
       "  ('according', 'A'),\n",
       "  ('to', 'TO'),\n",
       "  ('if-1', 'NN'),\n",
       "  ('.', '.')],\n",
       " [('r2', 'LS'),\n",
       "  ('the', 'DT'),\n",
       "  ('instrument', 'NN'),\n",
       "  ('shall', 'MD'),\n",
       "  ('image', 'VB'),\n",
       "  ('a', 'DT'),\n",
       "  ('target', 'NN'),\n",
       "  ('with', 'IN'),\n",
       "  ('spectral', 'JJ'),\n",
       "  ('radiance', 'NN'),\n",
       "  ('of', 'IN'),\n",
       "  ('abc', 'NN'),\n",
       "  ('(', '('),\n",
       "  ('*', 'NNP'),\n",
       "  ('plot', 'NN'),\n",
       "  (')', ')'),\n",
       "  ('according', 'A'),\n",
       "  ('to', 'TO'),\n",
       "  ('if-1', 'NN'),\n",
       "  ('.', '.')],\n",
       " [('r3', 'LS'),\n",
       "  ('the', 'DT'),\n",
       "  ('instrument', 'NN'),\n",
       "  ('shall', 'MD'),\n",
       "  ('accept', 'VB'),\n",
       "  ('command', 'NN'),\n",
       "  ('a', 'DT'),\n",
       "  ('according', 'A'),\n",
       "  ('to', 'TO'),\n",
       "  ('if-2', 'NN'),\n",
       "  ('.', '.')],\n",
       " [('r4', 'LS'),\n",
       "  ('the', 'DT'),\n",
       "  ('instrument', 'NN'),\n",
       "  ('shall', 'MD'),\n",
       "  ('transmit', 'VB'),\n",
       "  ('image', 'VB'),\n",
       "  ('data', 'NNS'),\n",
       "  ('according', 'A'),\n",
       "  ('to', 'TO'),\n",
       "  ('if-2', 'NN'),\n",
       "  ('in', 'IN'),\n",
       "  ('less', 'JJR'),\n",
       "  ('than', 'IN'),\n",
       "  ('0.2', 'CD'),\n",
       "  ('s', 'NN'),\n",
       "  ('after', 'IN'),\n",
       "  ('receiving', 'VBG'),\n",
       "  ('command', 'NN'),\n",
       "  ('a', 'DT'),\n",
       "  ('.', '.')],\n",
       " [('r5', 'LS'),\n",
       "  ('the', 'DT'),\n",
       "  ('instrument', 'NN'),\n",
       "  ('shall', 'MD'),\n",
       "  ('have', 'VB'),\n",
       "  ('a', 'DT'),\n",
       "  ('resolution', 'NN'),\n",
       "  ('better', 'JJR'),\n",
       "  ('than', 'IN'),\n",
       "  ('1', 'CD'),\n",
       "  ('unit', 'NN'),\n",
       "  ('.', '.')],\n",
       " [('r6', 'LS'),\n",
       "  ('the', 'DT'),\n",
       "  ('instrument', 'NN'),\n",
       "  ('shall', 'MD'),\n",
       "  ('have', 'VB'),\n",
       "  ('a', 'DT'),\n",
       "  ('fov', 'NN'),\n",
       "  ('greater', 'JJR'),\n",
       "  ('than', 'IN'),\n",
       "  ('2â—¦', 'CD')],\n",
       " [('r7', 'LS'),\n",
       "  ('the', 'DT'),\n",
       "  ('instrument', 'NN'),\n",
       "  ('shall', 'MD'),\n",
       "  ('provide', 'VB'),\n",
       "  ('telemetry', 'NN'),\n",
       "  ('data', 'NNS'),\n",
       "  ('every', 'DT'),\n",
       "  ('1', 'CD'),\n",
       "  ('s', 'NN'),\n",
       "  ('according', 'A'),\n",
       "  ('to', 'TO'),\n",
       "  ('if-2', 'NN'),\n",
       "  ('.', '.')],\n",
       " [('r8', 'LS'),\n",
       "  ('the', 'DT'),\n",
       "  ('instrument', 'NN'),\n",
       "  ('shall', 'MD'),\n",
       "  ('accept', 'VB'),\n",
       "  ('power', 'NN'),\n",
       "  ('according', 'A'),\n",
       "  ('to', 'TO'),\n",
       "  ('if-3', 'NN'),\n",
       "  ('.', '.')],\n",
       " [('r9', 'LS'),\n",
       "  ('the', 'DT'),\n",
       "  ('instrument', 'NN'),\n",
       "  ('shall', 'MD'),\n",
       "  ('consume', 'VB'),\n",
       "  ('less', 'JJR'),\n",
       "  ('than', 'IN'),\n",
       "  ('600', 'CD'),\n",
       "  ('w', 'NN'),\n",
       "  ('of', 'IN'),\n",
       "  ('electrical', 'JJ'),\n",
       "  ('power', 'NN'),\n",
       "  ('.', '.')],\n",
       " [('r10', 'LS'),\n",
       "  ('the', 'DT'),\n",
       "  ('instrument', 'NN'),\n",
       "  ('shall', 'MD'),\n",
       "  ('withstand', 'VB'),\n",
       "  ('a', 'DT'),\n",
       "  ('mechanical', 'JJ'),\n",
       "  ('load', 'NN'),\n",
       "  ('of', 'IN'),\n",
       "  ('5', 'CD'),\n",
       "  ('g', 'NNS'),\n",
       "  ('in', 'IN'),\n",
       "  ('any', 'DT'),\n",
       "  ('direction', 'NN'),\n",
       "  ('on', 'IN'),\n",
       "  ('if-4', 'NN'),\n",
       "  ('.', '.')],\n",
       " [('r11', 'VB'),\n",
       "  ('the', 'DT'),\n",
       "  ('instrument', 'NN'),\n",
       "  ('shall', 'MD'),\n",
       "  ('fulfill', 'VB'),\n",
       "  ('its', 'PRP$'),\n",
       "  ('performance', 'NN'),\n",
       "  ('when', 'WRB'),\n",
       "  ('subjected', 'VBN'),\n",
       "  ('to', 'TO'),\n",
       "  ('a', 'DT'),\n",
       "  ('temperature', 'NN'),\n",
       "  ('between', 'IN'),\n",
       "  ('âˆ', 'NNP'),\n",
       "  ('’', 'NNP'),\n",
       "  ('10', 'CD'),\n",
       "  ('â—¦c', 'NN'),\n",
       "  ('and', 'CC'),\n",
       "  ('+45', 'JJ'),\n",
       "  ('â—¦c', 'NN'),\n",
       "  ('at', 'IN'),\n",
       "  ('if-4', 'NN'),\n",
       "  ('.', '.')],\n",
       " [('r12', 'VB'),\n",
       "  ('the', 'DT'),\n",
       "  ('instrument', 'NN'),\n",
       "  ('shall', 'MD'),\n",
       "  ('have', 'VB'),\n",
       "  ('a', 'DT'),\n",
       "  ('lifetime', 'NN'),\n",
       "  ('of', 'IN'),\n",
       "  ('at', 'IN'),\n",
       "  ('least', 'JJS'),\n",
       "  ('7', 'CD'),\n",
       "  ('years', 'NNS'),\n",
       "  ('.', '.')],\n",
       " [('note', 'NN'),\n",
       "  ('1', 'CD'),\n",
       "  ('r10', 'LS'),\n",
       "  ('only', 'RB'),\n",
       "  ('applies', 'VBZ'),\n",
       "  ('during', 'IN'),\n",
       "  ('launch', 'NN'),\n",
       "  ('.', '.'),\n",
       "  ('all', 'DT'),\n",
       "  ('other', 'JJ'),\n",
       "  ('requirements', 'NNS'),\n",
       "  ('only', 'RB'),\n",
       "  ('apply', 'VB'),\n",
       "  ('once', 'RB'),\n",
       "  ('the', 'DT'),\n",
       "  ('instrument', 'NN'),\n",
       "  ('is', 'VBZ'),\n",
       "  ('powered', 'VBN'),\n",
       "  ('on', 'IN')],\n",
       " [('through', 'IN'), ('if-3', 'NN'), ('.', '.')]]"
      ]
     },
     "execution_count": 71,
     "metadata": {},
     "output_type": "execute_result"
    }
   ],
   "source": [
    "corrections = [\n",
    "    (\"r1\", \"LS\"),\n",
    "    (\"r2\", \"LS\"),\n",
    "    (\"r3\", \"LS\"),\n",
    "    (\"r4\", \"LS\"),\n",
    "    (\"r5\", \"LS\"),\n",
    "    (\"r6\", \"LS\"),\n",
    "    (\"r7\", \"LS\"),\n",
    "    (\"r8\", \"LS\"),\n",
    "    (\"r9\", \"LS\"),\n",
    "    (\"r10\", \"LS\"),\n",
    "    (\"image\", \"VB\"),\n",
    "    (\"according\", \"A\")\n",
    "]\n",
    "\n",
    "requirements = ie_preprocess(\"requirements.txt\")\n",
    "for i in range(len(requirements)):\n",
    "    for w in range(len(requirements[i])):\n",
    "        for correction in corrections:\n",
    "            if requirements[i][w][0] == correction[0]:\n",
    "                requirements[i][w] = correction\n",
    "requirements"
   ]
  },
  {
   "cell_type": "markdown",
   "id": "79383bc8",
   "metadata": {},
   "source": [
    "Chunking demo"
   ]
  },
  {
   "cell_type": "code",
   "execution_count": 80,
   "id": "a91ff5bd",
   "metadata": {},
   "outputs": [
    {
     "name": "stdout",
     "output_type": "stream",
     "text": [
      "(S\n",
      "  (NP r4/LS the/DT instrument/NN)\n",
      "  (MD shall/MD)\n",
      "  (VP transmit/VB)\n",
      "  (VP image/VB)\n",
      "  data/NNS\n",
      "  (AP\n",
      "    according/A\n",
      "    to/TO\n",
      "    (NP if-2/NN)\n",
      "    in/IN\n",
      "    less/JJR\n",
      "    than/IN\n",
      "    0.2/CD\n",
      "    (NP s/NN)\n",
      "    after/IN\n",
      "    receiving/VBG\n",
      "    (NP command/NN)\n",
      "    a/DT\n",
      "    ./.))\n"
     ]
    }
   ],
   "source": [
    "grammar = r\"\"\"\n",
    "S:  {<NP><MD><VB><NP><PP>?}\n",
    "MD: {<MD>}\n",
    "NP: {<LS>?<DT>?<NN>} \n",
    "    }<VP><AP><PP>{\n",
    "VP: {<VB>}\n",
    "AP: {<A><.*>+}\n",
    "PP: {<IN><.*>+}\n",
    "    }<VBG|AP>+{\n",
    "\"\"\"\n",
    "\n",
    "tokenized_requirements = requirements[3]\n",
    "cp = nltk.RegexpParser(grammar)\n",
    "result = cp.parse(tokenized_requirements)\n",
    "print(result)"
   ]
  },
  {
   "cell_type": "markdown",
   "id": "93030311",
   "metadata": {},
   "source": [
    "Parsing the chunked sentence"
   ]
  },
  {
   "cell_type": "code",
   "execution_count": 73,
   "id": "a9681405",
   "metadata": {},
   "outputs": [
    {
     "data": {
      "text/plain": [
       "('r2', 'LS')"
      ]
     },
     "execution_count": 73,
     "metadata": {},
     "output_type": "execute_result"
    }
   ],
   "source": [
    "result[0][0]"
   ]
  },
  {
   "cell_type": "code",
   "execution_count": 74,
   "id": "03187b8c",
   "metadata": {},
   "outputs": [
    {
     "data": {
      "text/plain": [
       "'target'"
      ]
     },
     "execution_count": 74,
     "metadata": {},
     "output_type": "execute_result"
    }
   ],
   "source": [
    "prep = None\n",
    "for r in result[3]:\n",
    "    if r[1] == 'NN':\n",
    "        prep = r[0]\n",
    "prep"
   ]
  },
  {
   "cell_type": "code",
   "execution_count": 75,
   "id": "90d4b00e",
   "metadata": {},
   "outputs": [
    {
     "name": "stdout",
     "output_type": "stream",
     "text": [
      "('r2', 'LS')\n",
      "('the', 'DT')\n",
      "('instrument', 'NN')\n",
      "('shall', 'MD')\n",
      "('image', 'VB')\n",
      "('a', 'DT')\n",
      "('target', 'NN')\n",
      "('with', 'IN')\n",
      "('spectral', 'JJ')\n",
      "('radiance', 'NN')\n",
      "('of', 'IN')\n",
      "('abc', 'NN')\n",
      "('(', '(')\n",
      "('*', 'NNP')\n",
      "('plot', 'NN')\n",
      "(')', ')')\n",
      "('according', 'A')\n",
      "('to', 'TO')\n",
      "('if-1', 'NN')\n",
      "('.', '.')\n",
      "=========\n",
      "instrument\n",
      "image\n",
      "target\n"
     ]
    }
   ],
   "source": [
    "foundSubject = False\n",
    "foundVerb = False\n",
    "foundObject = False\n",
    "foundReg = False\n",
    "\n",
    "subject = verb = obj = prep = None\n",
    "for chunk in result:\n",
    "    for c in chunk:\n",
    "        print(c)\n",
    "        if not foundSubject and c[1] == 'NN':\n",
    "            subject = c[0]\n",
    "            foundSubject = True\n",
    "        elif not foundVerb and c[1] == 'VB':\n",
    "            verb = c[0]\n",
    "            foundVerb = True\n",
    "        elif not foundObject and c[1] == 'NN':\n",
    "            obj = c[0]\n",
    "            foundObject = True\n",
    "        \n",
    "print(\"=========\")\n",
    "print(subject)\n",
    "print(verb)\n",
    "print(obj)"
   ]
  }
 ],
 "metadata": {
  "kernelspec": {
   "display_name": "Python 3 (ipykernel)",
   "language": "python",
   "name": "python3"
  },
  "language_info": {
   "codemirror_mode": {
    "name": "ipython",
    "version": 3
   },
   "file_extension": ".py",
   "mimetype": "text/x-python",
   "name": "python",
   "nbconvert_exporter": "python",
   "pygments_lexer": "ipython3",
   "version": "3.9.12"
  }
 },
 "nbformat": 4,
 "nbformat_minor": 5
}
