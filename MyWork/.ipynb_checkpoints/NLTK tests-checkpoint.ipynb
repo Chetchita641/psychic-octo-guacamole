{
 "cells": [
  {
   "cell_type": "markdown",
   "id": "747d6715",
   "metadata": {},
   "source": [
    "# NLTK experiments # "
   ]
  },
  {
   "cell_type": "code",
   "execution_count": 34,
   "id": "8eb4423e",
   "metadata": {},
   "outputs": [],
   "source": [
    "import nltk\n",
    "from nltk import word_tokenize\n",
    "import matplotlib.pyplot as plt"
   ]
  },
  {
   "cell_type": "code",
   "execution_count": 5,
   "id": "74b278f7",
   "metadata": {},
   "outputs": [
    {
     "name": "stdout",
     "output_type": "stream",
     "text": [
      "*** Introductory Examples for the NLTK Book ***\n",
      "Loading text1, ..., text9 and sent1, ..., sent9\n",
      "Type the name of the text or sentence to view it.\n",
      "Type: 'texts()' or 'sents()' to list the materials.\n",
      "text1: Moby Dick by Herman Melville 1851\n",
      "text2: Sense and Sensibility by Jane Austen 1811\n",
      "text3: The Book of Genesis\n",
      "text4: Inaugural Address Corpus\n",
      "text5: Chat Corpus\n",
      "text6: Monty Python and the Holy Grail\n",
      "text7: Wall Street Journal\n",
      "text8: Personals Corpus\n",
      "text9: The Man Who Was Thursday by G . K . Chesterton 1908\n"
     ]
    }
   ],
   "source": [
    "from nltk.book import *"
   ]
  },
  {
   "cell_type": "code",
   "execution_count": 15,
   "id": "fa28faf2",
   "metadata": {},
   "outputs": [
    {
     "data": {
      "text/plain": [
       "[Synset('image.n.01'),\n",
       " Synset('persona.n.02'),\n",
       " Synset('picture.n.01'),\n",
       " Synset('prototype.n.01'),\n",
       " Synset('trope.n.01'),\n",
       " Synset('double.n.03'),\n",
       " Synset('image.n.07'),\n",
       " Synset('image.n.08'),\n",
       " Synset('effigy.n.01'),\n",
       " Synset('image.v.01'),\n",
       " Synset('visualize.v.01')]"
      ]
     },
     "execution_count": 15,
     "metadata": {},
     "output_type": "execute_result"
    }
   ],
   "source": [
    "from nltk.corpus import wordnet as wn\n",
    "wn.synsets('image')"
   ]
  },
  {
   "cell_type": "code",
   "execution_count": 32,
   "id": "87838847",
   "metadata": {},
   "outputs": [
    {
     "data": {
      "text/plain": [
       "['R1 The instrument shall image a target at 600â€“650 km according to IF-1.',\n",
       " 'R2 The instrument shall image a target with spectral radiance of ABC (*plot) according to IF-1.',\n",
       " 'R3 The instrument shall accept Command A according to IF-2.',\n",
       " 'R4 The instrument shall transmit image data according to IF-2 in less than 0.2 s after receiving Command A.',\n",
       " 'R5 The instrument shall have a resolution better than 1 unit.',\n",
       " 'R6 The instrument shall have a FOV greater than 2â—¦',\n",
       " 'R7 The instrument shall provide telemetry data every 1 s according to IF-2.',\n",
       " 'R8 The instrument shall accept power according to IF-3.',\n",
       " 'R9 The instrument shall consume less than 600 W of electrical power.',\n",
       " 'R10 The instrument shall withstand a mechanical load of 5 g in any direction on IF-4.',\n",
       " 'R11 The instrument shall fulfill its performance when subjected to a temperature between âˆ’10 â—¦C and +45 â—¦C at IF-4.',\n",
       " 'R12 The instrument shall have a lifetime of at least 7 years.',\n",
       " 'Note 1 R10 only applies during launch. All other requirements only apply once the instrument is powered on',\n",
       " 'through IF-3.']"
      ]
     },
     "execution_count": 32,
     "metadata": {},
     "output_type": "execute_result"
    }
   ],
   "source": [
    "raw = open(\"requirements.txt\").read()\n",
    "requirements = raw.split('\\n')\n",
    "requirements"
   ]
  },
  {
   "cell_type": "code",
   "execution_count": 42,
   "id": "063b59b0",
   "metadata": {},
   "outputs": [
    {
     "name": "stdout",
     "output_type": "stream",
     "text": [
      "\n"
     ]
    }
   ],
   "source": [
    "wnl = nltk.WordNetLemmatizer()\n",
    "\n",
    "for requirement in requirements:\n",
    "    tokens = word_tokenize(requirement)\n",
    "    text = nltk.Text(tokens)\n",
    "    words = [wnl.lemmatize(w.lower()) for w in text]\n",
    "    break\n",
    "    \n"
   ]
  }
 ],
 "metadata": {
  "kernelspec": {
   "display_name": "Python 3 (ipykernel)",
   "language": "python",
   "name": "python3"
  },
  "language_info": {
   "codemirror_mode": {
    "name": "ipython",
    "version": 3
   },
   "file_extension": ".py",
   "mimetype": "text/x-python",
   "name": "python",
   "nbconvert_exporter": "python",
   "pygments_lexer": "ipython3",
   "version": "3.9.12"
  }
 },
 "nbformat": 4,
 "nbformat_minor": 5
}
